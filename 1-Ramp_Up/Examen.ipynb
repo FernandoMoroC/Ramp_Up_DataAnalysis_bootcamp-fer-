{
  "cells": [
    {
      "attachments": {},
      "cell_type": "markdown",
      "metadata": {
        "id": "AY6Q1wDJUobm"
      },
      "source": [
        "<h1><center>Examen Ramp Up 2025</center></h1>\n",
        "\n",
        "<h3>Ejercicio 1</h3>\n",
        "\n",
        "Diseñar una función que reciba varios argumentos (Pan = 2, Yogur = 6) o un diccionario con la compra realizada ({\"Pan\": 2,\"Yogur\": 6}) y calcule el importe total de la compra teniendo en cuenta los descuentos (porcentaje en formato unitario) impuesto por el comercio. A continuación, tenéis disponible la información sobre los productos que tiene el comercio, además de sus precios y descuentos (porcentaje en formato unitario) respectivamente. \n",
        "\n",
        "| **Producto** | **Precio** | **Descuento** |\n",
        "|:--------------:|:------------:|:---------------:|\n",
        "|Pan | 1.20 | 0.10 |\n",
        "|Yogur | 0.30 | 0.00 |\n",
        "|Lejia | 2.80 | 0.15 |\n",
        "|Leche | 0.87 | 0.05 |\n",
        "|Huevo | 0.17 | 0.20 |\n",
        "|Harina | 1.03 | 0.05 |\n",
        "|Detergente | 3.15 | 0.10 |\n",
        "|Gel | 4.19 | 0.00 |\n",
        "\n",
        "* Ejemplo:\n",
        "    * Entrada: {‘Pan’: 2,‘Yogur’: 6}.\n",
        "    * Salida: 3,96.\n",
        "\n",
        "Si veis que se os complica, centraros en la lógica pura sin encapsularlo en una función. Podéis crear una clase Tienda también, con un método asociado a una función que contenga la información necesaria, lo que más sencillo os resulte. Centraros sobre todo en emplear las estructuras que vimos en clase y elegid la que más os convenga."
      ]
    },
    {
      "cell_type": "code",
      "execution_count": 78,
      "metadata": {},
      "outputs": [],
      "source": [
        "\n",
        "def precio_compra(**kargs):\n",
        "\n",
        "    ''' \n",
        "    La función recibe argumentos con el nombre del producto asociado a la cantidad\n",
        "    de unidades del producto que se desea comprar. Devuelve el precio total de la compra.\n",
        "    '''\n",
        "    x = kargs\n",
        "    \n",
        "    # Diccionarios con los precios unitarios de los productos y descuentos asociados \n",
        "    precios = {\"Pan\": 1.20, \"Yogur\": 0.30, \"Lejía\": 2.80, \n",
        "           \"Leche\": 0.87, \"Huevo\": 0.17, \"Harina\": 1.03, \n",
        "           \"Detergente\": 3.15, \"Gel\":4.19}\n",
        "\n",
        "    descuentos = {\"Pan\": 0.10, \"Lejía\": 0.15, \n",
        "           \"Leche\": 0.05, \"Huevo\": 0.20, \n",
        "           \"Harina\": 0.05,\"Detergente\": 0.10}\n",
        "    \n",
        "    precio_final = []        \n",
        "\n",
        "    for product in x:\n",
        "\n",
        "        if product in precios and product in descuentos:\n",
        "            precio_final.append((x[product] * precios[product]) -(x[product] * precios[product]) * descuentos[product])\n",
        "       \n",
        "        elif product in precios:\n",
        "            precio_final.append(x[product] * precios[product])\n",
        "        \n",
        "        else:\n",
        "            print(f\"{product} no está en stock\")\n",
        "\n",
        "    return sum(precio_final)\n"
      ]
    },
    {
      "attachments": {},
      "cell_type": "markdown",
      "metadata": {
        "id": "LaFJoGKaUobv"
      },
      "source": [
        "<h3>Ejercicio 2</h3>\n",
        "\n",
        "Desarrollar una función que reciba una lista de números enteros positivos y devuelva una lista de diccionarios, en la que cada diccionario indicará el número de cifras pares e impares.\n",
        "\n",
        "* Ejemplo:\n",
        "    * Entrada: [124, 8771].\n",
        "    * Salida: [{\"Pares\" : 2,\"Impares\" : 1}, {\"Pares\" : 1, \"Impares\" : 3}].\n",
        "\n",
        "Empezad con un ejemplo sencillo, dada una cifra obtener los números pares e impares, podéis imprimir por pantalla y a partir de ahí construid una respuesta más compleja (el diccionario en nuestro caso), finalmente encapsulándolo en una función."
      ]
    },
    {
      "cell_type": "code",
      "execution_count": 80,
      "metadata": {},
      "outputs": [],
      "source": [
        "def par_impar_counter(x:list):\n",
        "    \n",
        "    ''' \n",
        "    La funcion recibe como argumento una lista de numeros enteros (int).\n",
        "    Devuelve un diccionario con el número de cifras pares e impares que contiene cada uno de\n",
        "    elementos de la lista de entrada.\n",
        "    '''\n",
        "\n",
        "    salida = []\n",
        "\n",
        "    for i in x:\n",
        "        diccionario = {}\n",
        "        cifra = str(i)\n",
        "        for a in cifra:\n",
        "            numero = int(a)\n",
        "            if numero % 2 == 0 and \"Pares\" not in diccionario:\n",
        "                diccionario[\"Pares\"] = 1\n",
        "\n",
        "            elif numero % 2 == 0 and \"Pares\" in diccionario:\n",
        "                diccionario[\"Pares\"] += 1\n",
        "\n",
        "            else:\n",
        "                if \"Impares\" not in diccionario:\n",
        "                    diccionario[\"Impares\"] = 1\n",
        "                else:\n",
        "                    diccionario[\"Impares\"] += 1 \n",
        "        salida.append(diccionario)\n",
        "\n",
        "    return salida    \n",
        "\n"
      ]
    },
    {
      "attachments": {},
      "cell_type": "markdown",
      "metadata": {},
      "source": [
        "<h3>Ejercicio 3</h3>\n",
        "\n",
        "Diseñar una función que reciba argumentos como prendas y sus precios y devuelve un diccionario con el top 3 (las tres prendas más caras). Podéis trabajar con un diccionario como entrada también donde los datos sean el producto como clave y precio como valor.\n",
        "\n",
        "* Ejemplo:\n",
        "    * input: {'camisa': 45.50, 'pantalones':35, 'camiseta': 41.30, 'abrigo':55, 'calcetines': 24}.\n",
        "    * output: {'abrigo':55,'camisa': 45.50, 'camiseta': 41.30}.\n",
        "\n",
        "Podéis obtener los valores del diccionario, ordenarlos del más caro al más barato y mirar que palabras clave en el diccionario original presentan los valores en las primeras tres posiciones."
      ]
    },
    {
      "cell_type": "code",
      "execution_count": 82,
      "metadata": {},
      "outputs": [],
      "source": [
        "\n",
        "def top3_expensive_clothes(x:dict):\n",
        "    ''' \n",
        "    Esta función recibe como argumento un diccionario donde las \n",
        "    claves son el nombre de la prenda y su valor el precio. \n",
        "    Devuelve un diccionario con las 3 prendas mas caras y sus precios\n",
        "    '''\n",
        "    prendas_mas_caras = {}\n",
        "\n",
        "    ropa = list(x.keys())\n",
        "\n",
        "    while len(prendas_mas_caras) < 3:\n",
        "\n",
        "        mayor = ropa[0]\n",
        "\n",
        "        for i in ropa:\n",
        "            if x[i] > x[mayor]:\n",
        "                mayor = i\n",
        "        \n",
        "        prendas_mas_caras[mayor] = x[mayor]\n",
        "        a = ropa.index(mayor) \n",
        "        del ropa[a]\n",
        "\n",
        "    return prendas_mas_caras       \n",
        "        \n"
      ]
    },
    {
      "cell_type": "markdown",
      "metadata": {},
      "source": [
        "<h3>Ejercicio 4</h3>\n",
        "\n",
        "Diseñad una función que pida al usuario una dirección y sea capaz de extraer de cuantas palabras está compuesta y cuantos de los campos hacen referencia a números.\n",
        "\n",
        "* Ejemplo:\n",
        "    * input: _Urazurrutia Kalea, 3, Ibaiondo, 48003 Bilbo, Bizkaia_\n",
        "    * output: _La dirección está compuesta por 7 palabras de las cuales 2 son números._\n",
        "\n",
        "Tened cuidado con los signos de puntuación ( , . ) y en caso de tener campos compuestos ( 2A, 2ªDrch ) podéis asumirlos como palabra y no número. Mirad si el objeto str (string) tiene algún método que os pueda ayudar a identificar si una palabra es considerada un número si todos sus caracteres son numéricos."
      ]
    },
    {
      "cell_type": "code",
      "execution_count": null,
      "metadata": {},
      "outputs": [],
      "source": [
        "\n",
        "def numeros_en_direccion():\n",
        "    ''' \n",
        "    Esta función pide al usuario la dirección de su domicilio. \n",
        "    Devuelve el número de palabras y números que contiene la dirección introducida. \n",
        "    '''\n",
        "\n",
        "    x = input(\"Introduzca su dirección de domicilio\")\n",
        "    x = x.replace(\",\", \"\").replace(\".\", \"\").split()\n",
        "\n",
        "    numeros = 0\n",
        "    for i in x:\n",
        "        if i.isnumeric():\n",
        "            numeros += 1\n",
        "\n",
        "    return f\"La dirección está compuesta por {len(x)} palabras de las cuales {numeros} son números\"\n"
      ]
    }
  ],
  "metadata": {
    "colab": {
      "provenance": []
    },
    "kernelspec": {
      "display_name": "Python 3",
      "language": "python",
      "name": "python3"
    },
    "language_info": {
      "codemirror_mode": {
        "name": "ipython",
        "version": 3
      },
      "file_extension": ".py",
      "mimetype": "text/x-python",
      "name": "python",
      "nbconvert_exporter": "python",
      "pygments_lexer": "ipython3",
      "version": "3.11.9"
    }
  },
  "nbformat": 4,
  "nbformat_minor": 0
}
