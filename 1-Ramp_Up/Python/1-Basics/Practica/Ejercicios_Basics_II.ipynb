{
 "cells": [
  {
   "cell_type": "markdown",
   "metadata": {},
   "source": [
    "![imagen](./img/ejercicios.png)"
   ]
  },
  {
   "cell_type": "markdown",
   "metadata": {},
   "source": [
    "# Ejercicios Python Basics II"
   ]
  },
  {
   "cell_type": "markdown",
   "metadata": {},
   "source": [
    "## Ejercicio 1\n",
    "* Crea dos variables numericas: un `int` y un `float`\n",
    "* Comprueba sus tipos\n",
    "* Sumalas en otra nueva\n",
    "* ¿De qué tipo es la nueva variable?\n",
    "* Elimina las variables creadas"
   ]
  },
  {
   "cell_type": "code",
   "execution_count": 3,
   "metadata": {},
   "outputs": [
    {
     "name": "stdout",
     "output_type": "stream",
     "text": [
      "<class 'int'>\n",
      "<class 'float'>\n",
      "<class 'float'>\n"
     ]
    }
   ],
   "source": [
    "# AQUÍ VA TU CÓDIGO\n",
    "\n",
    "variable_int = 13\n",
    "\n",
    "variable_float = 52.3\n",
    "\n",
    "print(type(variable_int))\n",
    "print(type(variable_float))\n",
    "\n",
    "suma = variable_int + variable_float\n",
    "print(type(suma))\n",
    "\n",
    "del variable_int,variable_float,suma\n"
   ]
  },
  {
   "cell_type": "markdown",
   "metadata": {},
   "source": [
    "## Ejercicio 2\n",
    "Escribe un programa para pasar de grados a radianes. Hay que usar `input`. Recuerda que la conversión se realiza mediante\n",
    "\n",
    "$$radianes = grados*(pi/180)$$"
   ]
  },
  {
   "cell_type": "code",
   "execution_count": 2,
   "metadata": {},
   "outputs": [
    {
     "name": "stdout",
     "output_type": "stream",
     "text": [
      "12.0 grados equivalen a 0.209 radianes\n"
     ]
    }
   ],
   "source": [
    "# AQUÍ VA TU CÓDIGO\n",
    "\n",
    "import math\n",
    "\n",
    "grados = float(input(\"Introduzca el número de grados:\"))\n",
    "radianes = grados * (math.pi/180)\n",
    "print(f\"{grados} grados equivalen a {round(radianes, 3)} radianes\")"
   ]
  },
  {
   "cell_type": "markdown",
   "metadata": {},
   "source": [
    "## Ejercicio 3\n",
    "Escribe un programa que calcule el area de un paralelogramo (base x altura). También con `input`"
   ]
  },
  {
   "cell_type": "code",
   "execution_count": null,
   "metadata": {},
   "outputs": [
    {
     "name": "stdout",
     "output_type": "stream",
     "text": [
      "El área del paralelogramo es 340.0\n"
     ]
    }
   ],
   "source": [
    "# AQUÍ VA TU CÓDIGO\n",
    "\n",
    "base = float(input(\"Introduzca la base en metros:\"))\n",
    "altura = float(input(\"Introduzca la altura en metros:\"))\n",
    "\n",
    "area = base * altura\n",
    "print(f\"El área del paralelogramo es {area} metros cuadrados\")"
   ]
  },
  {
   "cell_type": "markdown",
   "metadata": {},
   "source": [
    "## Ejercicio 4\n",
    "Tenemos las siguientes variables:\n",
    "\n",
    "```Python\n",
    "A = 4\n",
    "B = \"Text\"\n",
    "C = 4.1\n",
    "```\n",
    "\n",
    "Comprueba:\n",
    "1. Si A y B son equivalentes\n",
    "2. Si A y C NO son equivalentes\n",
    "3. Si A es mayor que C \n",
    "4. Si C es menor o igual que A\n",
    "5. Si B NO es equivalente a C"
   ]
  },
  {
   "cell_type": "code",
   "execution_count": null,
   "metadata": {},
   "outputs": [],
   "source": [
    "# AQUÍ VA TU CÓDIGO\n",
    "A = 4\n",
    "B = \"Text\"\n",
    "C = 4.1\n",
    "\n",
    "# 1\n",
    "A == B\n",
    "\n",
    "# 2\n",
    "A != C\n",
    "\n",
    "# 3\n",
    "A > C\n",
    "\n",
    "# 4\n",
    "C <= A\n",
    "\n",
    "# 5\n",
    "B != C"
   ]
  },
  {
   "cell_type": "markdown",
   "metadata": {},
   "source": [
    "## Ejercicio 5\n",
    "Crea un programa donde se recojan dos inputs del usuario, y el output del programa sea si esos inputs son iguales o no"
   ]
  },
  {
   "cell_type": "code",
   "execution_count": null,
   "metadata": {},
   "outputs": [
    {
     "name": "stdout",
     "output_type": "stream",
     "text": [
      "Las palabras no son iguales\n"
     ]
    }
   ],
   "source": [
    "# AQUÍ VA TU CÓDIGO\n",
    "\n",
    "variable_1 = input(\"Intriduzca una palabra:\")\n",
    "\n",
    "variable_2 = input(\"Introduzca otra palabra:\")\n",
    "\n",
    "if variable_1 == variable_2:\n",
    "    print(\"Las palabras son iguales\")"
   ]
  },
  {
   "cell_type": "markdown",
   "metadata": {},
   "source": [
    "## Ejercicio 6\n",
    "Mismo programa que en 5, pero en esta ocasión tienen que ser tres inputs y dos salidas. Una de las salidas que nos indique si todos son iguales, y la otra si al menos dos inputs sí que lo son"
   ]
  },
  {
   "cell_type": "code",
   "execution_count": 8,
   "metadata": {},
   "outputs": [
    {
     "name": "stdout",
     "output_type": "stream",
     "text": [
      "Al menos dos variables son iguales\n"
     ]
    }
   ],
   "source": [
    "# AQUÍ VA TU CÓDIGO\n",
    "\n",
    "variable_1 = input(\"Intriduzca una palabra:\")\n",
    "\n",
    "variable_2 = input(\"Introduzca otra palabra:\")\n",
    "\n",
    "variable_3 = input(\"Introduzca otra palabra:\")\n",
    "\n",
    "if variable_1 == variable_2 and variable_1 == variable_3 and variable_2 == variable_3:\n",
    "    print(\"Las palabras son iguales\")\n",
    "elif variable_1 == variable_2 or variable_1 == variable_3 or variable_2 == variable_3:\n",
    "    print(\"Al menos dos variables son iguales\")"
   ]
  },
  {
   "cell_type": "markdown",
   "metadata": {},
   "source": [
    "## Ejercicio 7\n",
    "Crea un programa que recoja dos inputs. Tiene que comprobar si su suma es igual, superior o inferior a 10, cada condición por separado"
   ]
  },
  {
   "cell_type": "code",
   "execution_count": null,
   "metadata": {},
   "outputs": [
    {
     "data": {
      "text/plain": [
       "True"
      ]
     },
     "execution_count": 9,
     "metadata": {},
     "output_type": "execute_result"
    }
   ],
   "source": [
    "# AQUÍ VA TU CÓDIGO\n",
    "\n",
    "numero_1 = float(input(\"Introduzca un número:\"))\n",
    "numero_2 = float(input(\"Introduzca otro número:\"))\n",
    "\n",
    "suma = numero_1 + numero_2\n",
    "\n",
    "suma == 10\n",
    "\n",
    "suma > 10\n",
    "\n",
    "suma < 10"
   ]
  },
  {
   "attachments": {},
   "cell_type": "markdown",
   "metadata": {},
   "source": [
    "## Ejercicio 8\n",
    "Razona sin ejecutar código el output que obtendremos de las siguientes sentencias\n",
    "1. True and True and False\n",
    "2. not ((True or False) and (True or False))\n",
    "3. (False or False or False or True) and False\n",
    "4. not False and True and not True\n",
    "\n",
    "Compruébalo después con python"
   ]
  },
  {
   "cell_type": "markdown",
   "metadata": {},
   "source": [
    "1. ...\n",
    "2. ...\n",
    "3. ...\n",
    "4. ..."
   ]
  },
  {
   "cell_type": "code",
   "execution_count": 15,
   "metadata": {},
   "outputs": [
    {
     "name": "stdout",
     "output_type": "stream",
     "text": [
      "False\n",
      "False\n",
      "False\n",
      "False\n"
     ]
    }
   ],
   "source": [
    "# 1. False\n",
    "a = 1 == 1 and 2 == 2 and 1 == 2\n",
    "print(a)\n",
    "\n",
    "# 2. False\n",
    "b = not ((1 == 1 or 1 == 2) and (1 == 1 or 1 == 2))\n",
    "print(b)\n",
    "\n",
    "# 3. False\n",
    "c = (1 == 2 or 1 == 3 or 1 == 4 or 1 == 1) and 1 == 2\n",
    "print(c)\n",
    "\n",
    "# 4. False\n",
    "d = not 1 == 2 and 1 == 1 and not 1 == 1\n",
    "print(d)"
   ]
  },
  {
   "cell_type": "markdown",
   "metadata": {},
   "source": [
    "## Ejercicio 9\n",
    "Para este ejercicio vamos a poner en práctica [las funciones built in](https://docs.python.org/3/library/functions.html).\n",
    "\n",
    "1. Calcula el máximo de la lista: [4, 6, 8, -1]\n",
    "2. Suma todos los elementos de la lista anterior\n",
    "3. Redondea este float a 3 dígitos decimales: 63.451256965\n",
    "4. Valor absoluto de: -74"
   ]
  },
  {
   "cell_type": "code",
   "execution_count": null,
   "metadata": {},
   "outputs": [
    {
     "name": "stdout",
     "output_type": "stream",
     "text": [
      "8\n",
      "17\n",
      "63.451\n",
      "74\n"
     ]
    }
   ],
   "source": [
    "# AQUÍ VA TU CÓDIGO\n",
    "\n",
    "# 1.\n",
    "print(max([4, 6, 8, -1]))\n",
    "\n",
    "# 2.\n",
    "print(sum([4, 6, 8, -1]))\n",
    "\n",
    "# 3.\n",
    "print(round(63.451256965, 3))\n",
    "\n",
    "# 4.\n",
    "print(abs(-74))"
   ]
  },
  {
   "cell_type": "markdown",
   "metadata": {},
   "source": [
    "## Ejercicio 10\n",
    "Para el siguiente string se pide imprimir por pantalla los siguientes casos\n",
    "\n",
    "    \"Lo primero de todo, cómo están los máquinas\"\n",
    "\n",
    "1. Pasarlo todo a mayúsculas\n",
    "2. Pasarlo todo a minúsculas\n",
    "3. Pasar a mayúsculas solo las iniciales de las palabras\n",
    "4. Crea una lista dividiendolo por sus espacios\n",
    "5. Sustituye las comas `,` por puntos y comas `;`\n",
    "6. Elimina las `a` minúsculas"
   ]
  },
  {
   "cell_type": "code",
   "execution_count": null,
   "metadata": {},
   "outputs": [
    {
     "name": "stdout",
     "output_type": "stream",
     "text": [
      "LO PRIMERO DE TODO, CÓMO ESTÁN LOS MÁQUINAS\n",
      "lo primero de todo, cómo están los máquinas\n",
      "Lo Primero De Todo, Cómo Están Los Máquinas\n",
      "['Lo', 'primero', 'de', 'todo,', 'cómo', 'están', 'los', 'máquinas']\n",
      "Lo primero de todo; cómo están los máquinas\n",
      "Lo primero de todo, cómo estn los mquins\n"
     ]
    }
   ],
   "source": [
    "# AQUÍ VA TU CÓDIGO\n",
    "\n",
    "legend_sentence = \"Lo primero de todo, cómo están los máquinas\"\n",
    "\n",
    "# 1.\n",
    "print(legend_sentence.upper())\n",
    "\n",
    "# 2.\n",
    "print(legend_sentence.lower())\n",
    "\n",
    "# 3.\n",
    "print(legend_sentence.title())\n",
    "\n",
    "# 4.\n",
    "lista = legend_sentence.split(\" \")\n",
    "print(lista)\n",
    "\n",
    "# 5.\n",
    "print(legend_sentence.replace(\",\", \";\"))\n",
    "\n",
    "# 6.\n",
    "\n",
    "legend_sentence.replace(\"a\", \"\").replace(\"á\", \"\")\n",
    "\n",
    "legend_sentence = legend_sentence.replace(\"a\", \"\")\n",
    "print(legend_sentence.replace(\"á\", \"\"))"
   ]
  },
  {
   "cell_type": "markdown",
   "metadata": {},
   "source": [
    "## Ejercicio 11\n",
    "1. Crea una lista con 3 elementos numéricos\n",
    "2. Añade un cuarto elemento\n",
    "3. Calcula la suma de todos\n",
    "4. Elimina el segundo elemento de la lista\n",
    "5. Añade otro elemento en la posicion 3 de la lista\n",
    "6. Crea otra lista con 4 elementos y concaténala a la que ya tenías."
   ]
  },
  {
   "cell_type": "code",
   "execution_count": 37,
   "metadata": {},
   "outputs": [
    {
     "name": "stdout",
     "output_type": "stream",
     "text": [
      "48\n",
      "[1, 13, 26]\n",
      "[1, 13, 18, 26]\n",
      "[1, 13, 18, 26, 1, 2, 3, 4]\n"
     ]
    }
   ],
   "source": [
    "# AQUÍ VA TU CÓDIGO\n",
    "\n",
    "# 1.\n",
    "numbers = [1, 8, 13]\n",
    "\n",
    "# 2.\n",
    "numbers.append(26)\n",
    "\n",
    "# 3.\n",
    "print(sum(numbers))\n",
    "\n",
    "# 4.\n",
    "numbers.remove(numbers[1])\n",
    "print(numbers)\n",
    "\n",
    "# 5.\n",
    "numbers.insert(2, 18)\n",
    "print(numbers)\n",
    "\n",
    "# 6.\n",
    "other_list = [1, 2, 3, 4]\n",
    "print(numbers + other_list)"
   ]
  },
  {
   "cell_type": "code",
   "execution_count": null,
   "metadata": {},
   "outputs": [],
   "source": []
  }
 ],
 "metadata": {
  "kernelspec": {
   "display_name": "Python 3",
   "language": "python",
   "name": "python3"
  },
  "language_info": {
   "codemirror_mode": {
    "name": "ipython",
    "version": 3
   },
   "file_extension": ".py",
   "mimetype": "text/x-python",
   "name": "python",
   "nbconvert_exporter": "python",
   "pygments_lexer": "ipython3",
   "version": "3.11.9"
  },
  "nbTranslate": {
   "displayLangs": [
    "*"
   ],
   "hotkey": "alt-t",
   "langInMainMenu": true,
   "sourceLang": "en",
   "targetLang": "fr",
   "useGoogleTranslate": true
  },
  "varInspector": {
   "cols": {
    "lenName": 16,
    "lenType": 16,
    "lenVar": 40
   },
   "kernels_config": {
    "python": {
     "delete_cmd_postfix": "",
     "delete_cmd_prefix": "del ",
     "library": "var_list.py",
     "varRefreshCmd": "print(var_dic_list())"
    },
    "r": {
     "delete_cmd_postfix": ") ",
     "delete_cmd_prefix": "rm(",
     "library": "var_list.r",
     "varRefreshCmd": "cat(var_dic_list()) "
    }
   },
   "types_to_exclude": [
    "module",
    "function",
    "builtin_function_or_method",
    "instance",
    "_Feature"
   ],
   "window_display": false
  }
 },
 "nbformat": 4,
 "nbformat_minor": 4
}
