{
 "cells": [
  {
   "attachments": {},
   "cell_type": "markdown",
   "metadata": {},
   "source": [
    "## Juego del Ahorcado\n",
    "Desarrolla el juego del ahorcado en python. En cada turno irá mostrando por pantalla ```_ _ _ _ _``` las rayas bajas correspondientes al número de letras que tiene la palabra a adivinar. El usuario deberá insertar una letra y, si esa letra existe, se mostrará o mostrarán las letras acertadas ```S _ S _ _``` en sus posiciones correspondientes. \n",
    "\n",
    "Si falla, se mostrará el número de errores que lleva y, si lleva x errores, entonces se mostrará \"Fin del juego\"."
   ]
  },
  {
   "cell_type": "markdown",
   "metadata": {},
   "source": [
    "1. Inicializa el juego: declara una palabra a adivinar y muestra por pantalla la palabra oculta.\n"
   ]
  },
  {
   "cell_type": "markdown",
   "metadata": {},
   "source": [
    "\n",
    "```python\n",
    "_ _ _ _ _ _ _ _\n",
    "```"
   ]
  },
  {
   "cell_type": "code",
   "execution_count": 22,
   "metadata": {},
   "outputs": [
    {
     "name": "stdout",
     "output_type": "stream",
     "text": [
      "_ _ _ _ _ _ _\n"
     ]
    }
   ],
   "source": [
    "palabra = \"cerebro\"\n",
    "adivina = []\n",
    "\n",
    "\n",
    "\n",
    "for letra in palabra:\n",
    "    adivina.append(\"_\")\n",
    "\n",
    "print(*adivina)\n",
    "\n"
   ]
  },
  {
   "cell_type": "markdown",
   "metadata": {},
   "source": [
    "2. Funcionamiento turnos: mediante un bucle genera el sistema de turnos donde el usuario introduce una letra y le va mostrando su progreso y sus vidas."
   ]
  },
  {
   "cell_type": "code",
   "execution_count": 1,
   "metadata": {},
   "outputs": [
    {
     "name": "stdout",
     "output_type": "stream",
     "text": [
      "_ _ _ _ _ _ _\n",
      "c _ _ _ _ _ _\n",
      "c e _ e _ _ _\n",
      "c e _ e _ _ _\n",
      "c e r e _ r _\n",
      "c e r e b r _\n",
      "c e r e b r o\n",
      "You win!\n"
     ]
    }
   ],
   "source": [
    "palabra = \"cerebro\"\n",
    "adivina = []\n",
    "\n",
    "for letra in palabra:\n",
    "    adivina.append(\"_\")\n",
    "\n",
    "print(*adivina)\n",
    "\n",
    "\n",
    "resultado = True\n",
    "intentos = 10\n",
    "\n",
    "while intentos > 0:\n",
    "    resultado = True\n",
    "    usuario = input(\"Introduce una letra en minúscula:\")\n",
    "   \n",
    "   # Si existe la letra del usuario en la palabra, colocamos la letra en la posicion correcta\n",
    "    if usuario in palabra:\n",
    "        for i in range(len(palabra)):\n",
    "            if palabra[i] == usuario:\n",
    "                adivina[i] = palabra[i]\n",
    "        print(*adivina)\n",
    "\n",
    "    # Si no existe restamos un intento\n",
    "    else: \n",
    "        intentos -= 1\n",
    "    \n",
    "    # Salimos del bucle si el usuario ha adivinado la palabra\n",
    "    if adivina == list(palabra):\n",
    "            resultado = False\n",
    "            print(\"You win!\")\n",
    "            break\n",
    "            \n",
    "               \n",
    "        \n",
    "\n",
    "            \n",
    "\n"
   ]
  },
  {
   "cell_type": "markdown",
   "metadata": {},
   "source": [
    "3. Desarrolla la finalización de la partida, tanto si gana como si pierde."
   ]
  },
  {
   "cell_type": "code",
   "execution_count": null,
   "metadata": {},
   "outputs": [],
   "source": []
  }
 ],
 "metadata": {
  "kernelspec": {
   "display_name": "Python 3",
   "language": "python",
   "name": "python3"
  },
  "language_info": {
   "codemirror_mode": {
    "name": "ipython",
    "version": 3
   },
   "file_extension": ".py",
   "mimetype": "text/x-python",
   "name": "python",
   "nbconvert_exporter": "python",
   "pygments_lexer": "ipython3",
   "version": "3.11.9"
  },
  "orig_nbformat": 4
 },
 "nbformat": 4,
 "nbformat_minor": 2
}
