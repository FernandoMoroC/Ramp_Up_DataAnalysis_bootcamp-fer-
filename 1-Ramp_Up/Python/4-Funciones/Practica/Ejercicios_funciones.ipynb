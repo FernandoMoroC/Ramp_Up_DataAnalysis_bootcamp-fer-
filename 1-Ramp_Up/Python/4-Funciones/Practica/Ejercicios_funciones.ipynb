{
 "cells": [
  {
   "cell_type": "markdown",
   "metadata": {},
   "source": [
    "![imagen](./img/ejercicios.png)"
   ]
  },
  {
   "cell_type": "markdown",
   "metadata": {},
   "source": [
    "# Ejercicios funciones\n",
    "## Ejercicio 1\n",
    "Escribe una función que convierta números del 1 al 7 en nombres de los dias de la semana. La función constará de un único argumento numérico y una salida de tipo string"
   ]
  },
  {
   "cell_type": "code",
   "execution_count": 10,
   "metadata": {},
   "outputs": [
    {
     "data": {
      "text/plain": [
       "'Lunes'"
      ]
     },
     "execution_count": 10,
     "metadata": {},
     "output_type": "execute_result"
    }
   ],
   "source": [
    "# AQUÍ VA VUESTRO CÓDIGO\n",
    "\n",
    "def dia_de_la_semana(x: int):\n",
    "    ''' \n",
    "    Transforma el numero en un dia de la semana\n",
    "    Inputs:\n",
    "    x:int\n",
    "    Outputs:\n",
    "    dias[x-1] : str    \n",
    "    '''\n",
    "    dias = [\"Lunes\", \"Martes\", \"Miércoles\", \"Jueves\", \"Viernes\", \"Sábado\", \"Domingo\"]\n",
    "    \n",
    "    return dias[x-1]\n",
    "\n",
    "dia_de_la_semana(1)\n"
   ]
  },
  {
   "cell_type": "markdown",
   "metadata": {},
   "source": [
    "## Ejercicio 2\n",
    "En el ejercicio 8 de flujos de control, creábamos una pirámide invertida de números desde el 5. Crea una función que replique el comportamiento de la pirámide, y utiliza un único parámetro de entrada de la función para determinar el número de filas de la pirámide."
   ]
  },
  {
   "cell_type": "code",
   "execution_count": 40,
   "metadata": {},
   "outputs": [
    {
     "name": "stdout",
     "output_type": "stream",
     "text": [
      "10 9 8 7 6 5 4 3 2 1\n",
      "9 8 7 6 5 4 3 2 1\n",
      "8 7 6 5 4 3 2 1\n",
      "7 6 5 4 3 2 1\n",
      "6 5 4 3 2 1\n",
      "5 4 3 2 1\n",
      "4 3 2 1\n",
      "3 2 1\n",
      "2 1\n",
      "1\n"
     ]
    }
   ],
   "source": [
    "# AQUÍ VA VUESTRO CÓDIGO\n",
    "\n",
    "def pyramid(x):\n",
    "    lista = list(range(x, 0, -1))\n",
    "    \n",
    "    for i in range(len(lista)):\n",
    "        print(*lista)\n",
    "        del lista[0]\n",
    "\n",
    "pyramid(10)"
   ]
  },
  {
   "cell_type": "code",
   "execution_count": 2,
   "metadata": {},
   "outputs": [
    {
     "name": "stdout",
     "output_type": "stream",
     "text": [
      "10 9 8 7 6 5 4 3 2 1\n",
      "9 8 7 6 5 4 3 2 1\n",
      "8 7 6 5 4 3 2 1\n",
      "7 6 5 4 3 2 1\n",
      "6 5 4 3 2 1\n",
      "5 4 3 2 1\n",
      "4 3 2 1\n",
      "3 2 1\n",
      "2 1\n",
      "1\n"
     ]
    }
   ],
   "source": [
    "def pyramid2(x):\n",
    "    lista = list(range(x, 0, -1))\n",
    "    \n",
    "    for i in range(len(lista)):\n",
    "        print(*lista[i:])\n",
    "        \n",
    "\n",
    "pyramid2(10)"
   ]
  },
  {
   "cell_type": "markdown",
   "metadata": {},
   "source": [
    "## Ejercicio 3\n",
    "Escribe una función que compare dos números. La función tiene dos argumentos y hay tres salidas posibles: que sean iguales, que el primero sea  mayor que el segundo, o que el segundo sea mayor que el primero"
   ]
  },
  {
   "cell_type": "code",
   "execution_count": null,
   "metadata": {},
   "outputs": [],
   "source": [
    "# AQUÍ VA VUESTRO CÓDIGO\n",
    "\n",
    "def comparison(x,y):\n",
    "    try:\n",
    "        if x == y:\n",
    "            return (f\"{x} es igual a {y}\")\n",
    "        elif x > y:\n",
    "            return (f\"{x} es mayor que {y}\")\n",
    "        else:\n",
    "            return (f\"{x} es menor que {y}\")\n",
    "    except:\n",
    "        return \"Introduce dos valores numéricos\"\n",
    "    \n"
   ]
  },
  {
   "attachments": {},
   "cell_type": "markdown",
   "metadata": {},
   "source": [
    "## Ejercicio 4\n",
    "Escribe una función que sea un contador de letras. En el primer argumento tienes que introducir un texto, y el segundo que sea una letra que contar. La función tiene que devolver un entero con el número de veces que aparece esa letra, tanto mayúscula, como minúscula"
   ]
  },
  {
   "cell_type": "code",
   "execution_count": null,
   "metadata": {},
   "outputs": [
    {
     "data": {
      "text/plain": [
       "5"
      ]
     },
     "execution_count": 9,
     "metadata": {},
     "output_type": "execute_result"
    }
   ],
   "source": [
    "# AQUÍ VA VUESTRO CÓDIGO\n",
    "\n",
    "def wordcounter(x:str, y:str):\n",
    "    occurences = 0\n",
    "    for i in x:\n",
    "        if i.lower() == y.lower():\n",
    "            occurences +=1\n",
    "    return occurences\n",
    "\n"
   ]
  },
  {
   "cell_type": "markdown",
   "metadata": {},
   "source": [
    "## Ejercicio 5\n",
    "Escribe una función que tenga un único argumento, un string. La salida de la función tiene que ser un diccionario con el conteo de todas las letras de ese string, siendo la clave la letra y el valor el conteo."
   ]
  },
  {
   "cell_type": "code",
   "execution_count": null,
   "metadata": {},
   "outputs": [
    {
     "data": {
      "text/plain": [
       "{'i': 2,\n",
       " 'n': 2,\n",
       " 't': 1,\n",
       " 'r': 3,\n",
       " 'o': 4,\n",
       " 'd': 2,\n",
       " 'u': 2,\n",
       " 'c': 2,\n",
       " 'e': 2,\n",
       " 's': 3,\n",
       " 'v': 1,\n",
       " 'a': 1,\n",
       " 'l': 1,\n",
       " 'm': 1,\n",
       " 'é': 1}"
      ]
     },
     "execution_count": 18,
     "metadata": {},
     "output_type": "execute_result"
    }
   ],
   "source": [
    "# AQUÍ VA VUESTRO CÓDIGO\n",
    "\n",
    "def dictcounter(x:str):\n",
    "\n",
    "    # Convertimos todas las letras a minúscula, eliminamos signos de puntuación.\n",
    "    x = x.lower().replace(\",\",\"\").replace(\" \",\"\").replace(\".\",\"\").replace(\":\",\"\").replace(\";\",\"\")\n",
    "    \n",
    "    # Definimos el diccionario de almacenaje\n",
    "    dictionary = {}\n",
    "\n",
    "    # Recorremos las letras del string\n",
    "    for i in x:\n",
    "\n",
    "        # Si la letra no se encuentra en las claves del diccionario, creamos una clave con sea \n",
    "        # letra y le damos el valor 1\n",
    "        if i not in dictionary:\n",
    "            dictionary[i] = 1\n",
    "\n",
    "        # Si la letra se encuentra ya en las claves, le sumamos 1 al valor correspondiente a esa clave\n",
    "        else:\n",
    "            dictionary[i] += 1\n",
    "    \n",
    "    return dictionary\n",
    "    \n"
   ]
  },
  {
   "cell_type": "markdown",
   "metadata": {},
   "source": [
    "## Ejercicio 6\n",
    "Escribir una función que añada o elimine elementos en una lista. La función necesita los siguientes argumentos:\n",
    "* lista: la lista donde se añadirán o eliminarán los elementos\n",
    "* comando: \"add\" o \"remove\"\n",
    "* elemento: Por defecto es None.\n",
    "\n",
    "Tendrá como salida la lista"
   ]
  },
  {
   "cell_type": "code",
   "execution_count": null,
   "metadata": {},
   "outputs": [],
   "source": [
    "# AQUÍ VA VUESTRO CÓDIGO\n",
    "\n",
    "def eliminator(group:list, action:str, element = None):\n",
    "    ''' \n",
    "    Add items into a list or remove them from it.\n",
    "    action could be \"add\" or \"remove\"\n",
    "    Inputs:\n",
    "    group:list\n",
    "    action:str\n",
    "    element = None\n",
    "    \n",
    "    Outputs:\n",
    "    return group:list\n",
    "    '''\n",
    "    if element != None:\n",
    "        if action == \"add\":\n",
    "            group.append(element)\n",
    "        \n",
    "        elif (action == \"remove\") and (element in group): # No hay diferencia entre usar o no paréntesis\n",
    "            group.remove(element)\n",
    "    \n",
    "    return group\n",
    "      \n"
   ]
  },
  {
   "cell_type": "markdown",
   "metadata": {},
   "source": [
    "## Ejercicio 7\n",
    "Crea una función que reciba un número arbitrario de palabras, y devuelva una frase completa, separando las palabras con espacios."
   ]
  },
  {
   "cell_type": "code",
   "execution_count": 29,
   "metadata": {},
   "outputs": [
    {
     "data": {
      "text/plain": [
       "'echamos unas partidas Luis'"
      ]
     },
     "execution_count": 29,
     "metadata": {},
     "output_type": "execute_result"
    }
   ],
   "source": [
    "# AQUÍ VA VUESTRO CÓDIGO\n",
    "\n",
    "def sentencemaker(*args):\n",
    "    sentence = []\n",
    "    for i in args:\n",
    "        sentence.append(i)\n",
    "\n",
    "    sentence = \" \".join(sentence)\n",
    "    return sentence\n",
    "\n",
    "sentencemaker(\"echamos\", \"unas\", \"partidas\", \"Luis\")\n"
   ]
  },
  {
   "cell_type": "markdown",
   "metadata": {},
   "source": [
    "## Ejercicio 8\n",
    "Escribe un programa que obtenga el enésimo número de la [serie de Fibonacci](https://es.wikipedia.org/wiki/Sucesi%C3%B3n_de_Fibonacci). Tienes que crear una función recursiva con un único argumento.\n",
    "\n",
    "```Python\n",
    "fibonacci(2) = 1\n",
    "fibonacci(4) = 3\n",
    "fibonacci(5) = 5\n",
    "fibonacci(8) = 21\n",
    "```"
   ]
  },
  {
   "cell_type": "markdown",
   "metadata": {},
   "source": [
    "fibonacci(n) = fibonacci(n-1) + fibonacci(n-2)"
   ]
  },
  {
   "cell_type": "code",
   "execution_count": 5,
   "metadata": {},
   "outputs": [
    {
     "data": {
      "text/plain": [
       "5702887"
      ]
     },
     "execution_count": 5,
     "metadata": {},
     "output_type": "execute_result"
    }
   ],
   "source": [
    "# AQUÍ VA VUESTRO CÓDIGO\n",
    "\n",
    "\n",
    "\n",
    "\n",
    "def n_esimofibonacci(n):\n",
    "\n",
    "    x = [0,1]\n",
    "\n",
    "    for i in range(1, n, 1):\n",
    "        y = x[i] + x[(i-1)]\n",
    "        x.append(y)\n",
    "    return x[-1]\n",
    "\n",
    "\n",
    "n_esimofibonacci(34)\n",
    "\n"
   ]
  },
  {
   "cell_type": "code",
   "execution_count": 8,
   "metadata": {},
   "outputs": [
    {
     "data": {
      "text/plain": [
       "5702887"
      ]
     },
     "execution_count": 8,
     "metadata": {},
     "output_type": "execute_result"
    }
   ],
   "source": [
    "def fibonacci(pos):\n",
    "\n",
    "    if pos < 2:\n",
    "        return pos\n",
    "    \n",
    "    return fibonacci(pos-1) + fibonacci(pos-2)\n",
    "\n",
    "fibonacci(34)"
   ]
  },
  {
   "attachments": {},
   "cell_type": "markdown",
   "metadata": {},
   "source": [
    "## Ejercicio 9\n",
    "Define en una única celda las siguientes funciones:\n",
    "* Función que calcule el área de un cuadrado\n",
    "* Función que calcule el área de un triángulo\n",
    "* Función que calcule el área de un círculo\n",
    "\n",
    "En otra celda, calcular el area de:\n",
    "* Dos círculos de radio 10 + un triángulo de base 3 y altura 7\n",
    "* Un cuadrado de lado = 10 + 3 círculos (uno de radio = 4 y los otros dos de radio = 6) + 5 triángulos de base = 2 + altura = 4"
   ]
  },
  {
   "cell_type": "code",
   "execution_count": null,
   "metadata": {},
   "outputs": [],
   "source": [
    "# AQUÍ VA VUESTRO CÓDIGO\n",
    "\n",
    "# Función de cálculo del área del cuadrado\n",
    "\n",
    "def area_cuadrado(lado):\n",
    "    return lado * lado\n",
    "\n",
    "# Función de cálculo del área del triángulo\n",
    "\n",
    "def area_triangulo(base,altura):\n",
    "    return (base * altura) / 2\n",
    "\n",
    "# Función de cálculo de área del circulo\n",
    "\n",
    "def area_circulo(radio):\n",
    "    import math\n",
    "    return 2 * math.pi * radio"
   ]
  },
  {
   "cell_type": "code",
   "execution_count": 30,
   "metadata": {},
   "outputs": [
    {
     "name": "stdout",
     "output_type": "stream",
     "text": [
      "136.16\n",
      "136.53\n"
     ]
    }
   ],
   "source": [
    "# 1.\n",
    "\n",
    "print(round(2*(area_circulo(10)) + area_triangulo(3,7), 2))\n",
    "\n",
    "# 2.\n",
    "\n",
    "print(round(area_cuadrado(4) + area_circulo(4) + (2*(area_circulo(6))) + (5*(area_triangulo(2,4))),2))"
   ]
  },
  {
   "cell_type": "markdown",
   "metadata": {},
   "source": [
    "## Ejercicio 10\n",
    "\n",
    "Guarda las funciones de estos ejercicios en un fichero llamado `funciones.py` e importalas desde este jupyter notebook para probar que puedes hacer uso de ellas."
   ]
  },
  {
   "cell_type": "code",
   "execution_count": null,
   "metadata": {},
   "outputs": [
    {
     "name": "stdout",
     "output_type": "stream",
     "text": [
      "Writing funciones_ejercicio.py\n"
     ]
    }
   ],
   "source": [
    "\n",
    "\n",
    "%%writefile funciones_ejercicio.py\n",
    "\n",
    "def dia_de_la_semana(x: int):\n",
    "    ''' \n",
    "    Transforma el numero en un dia de la semana\n",
    "    Inputs:\n",
    "    x:int\n",
    "    Outputs:\n",
    "    dias[x-1] : str    \n",
    "    '''\n",
    "    dias = [\"Lunes\", \"Martes\", \"Miércoles\", \"Jueves\", \"Viernes\", \"Sábado\", \"Domingo\"]\n",
    "    \n",
    "    return dias[x-1]\n",
    "\n",
    "\n",
    "def pyramid(x):\n",
    "    lista = list(range(x, 0, -1))\n",
    "    \n",
    "    for i in range(len(lista)):\n",
    "        print(*lista)\n",
    "        del lista[0]\n",
    "\n",
    "def comparison(x,y):\n",
    "    try:\n",
    "        if x == y:\n",
    "            return (f\"{x} es igual a {y}\")\n",
    "        elif x > y:\n",
    "            return (f\"{x} es mayor que {y}\")\n",
    "        else:\n",
    "            return (f\"{x} es menor que {y}\")\n",
    "    except:\n",
    "        return \"Introduce dos valores numéricos\"\n",
    "\n",
    "def wordcounter(x:str, y:str):\n",
    "    occurences = 0\n",
    "    for i in x:\n",
    "        if i.lower() == y.lower():\n",
    "            occurences +=1\n",
    "    return occurences\n",
    "\n",
    "def dictcounter(x:str):\n",
    "\n",
    "    # Convertimos todas las letras a minúscula, eliminamos signos de puntuación.\n",
    "    x = x.lower().replace(\",\",\"\").replace(\" \",\"\").replace(\".\",\"\").replace(\":\",\"\").replace(\";\",\"\")\n",
    "    \n",
    "    # Definimos el diccionario de almacenaje\n",
    "    dictionary = {}\n",
    "\n",
    "    # Recorremos las letras del string\n",
    "    for i in x:\n",
    "\n",
    "        # Si la letra no se encuentra en las claves del diccionario, creamos una clave con sea \n",
    "        # letra y le damos el valor 1\n",
    "        if i not in dictionary:\n",
    "            dictionary[i] = 1\n",
    "\n",
    "        # Si la letra se encuentra ya en las claves, le sumamos 1 al valor correspondiente a esa clave\n",
    "        else:\n",
    "            dictionary[i] += 1\n",
    "    \n",
    "    return dictionary\n",
    "    \n",
    "\n",
    "def eliminator(group:list, action:str, element = None):\n",
    "    ''' \n",
    "    Add items into a list or remove them from it.\n",
    "    action could be \"add\" or \"remove\"\n",
    "    Inputs:\n",
    "    group:list\n",
    "    action:str\n",
    "    element = None\n",
    "    \n",
    "    Outputs:\n",
    "    return group:list\n",
    "    '''\n",
    "    if element != None:\n",
    "        if action == \"add\":\n",
    "            group.append(element)\n",
    "        \n",
    "        elif action == \"remove\":\n",
    "            group.remove(element)\n",
    "    \n",
    "    return group\n",
    "      \n",
    "def sentencemaker(*args):\n",
    "    sentence = []\n",
    "    for i in args:\n",
    "        sentence.append(i)\n",
    "\n",
    "    sentence = \" \".join(sentence)\n",
    "    return sentence\n",
    "\n",
    "\n",
    "def n_esimofibonacci(n):\n",
    "\n",
    "    x = [0,1]\n",
    "\n",
    "    for i in range(1, n, 1):\n",
    "        y = x[i] + x[(i-1)]\n",
    "        x.append(y)\n",
    "    return x[-1]\n",
    "\n",
    "def area_cuadrado(lado):\n",
    "    return lado * lado\n",
    "\n",
    "# Función de cálculo del área del triángulo\n",
    "\n",
    "def area_triangulo(base,altura):\n",
    "    return (base * altura) / 2\n",
    "\n",
    "# Función de cálculo de área del circulo\n",
    "\n",
    "def area_circulo(radio):\n",
    "    import math\n",
    "    return 2 * math.pi * radio"
   ]
  }
 ],
 "metadata": {
  "kernelspec": {
   "display_name": "Python 3",
   "language": "python",
   "name": "python3"
  },
  "language_info": {
   "codemirror_mode": {
    "name": "ipython",
    "version": 3
   },
   "file_extension": ".py",
   "mimetype": "text/x-python",
   "name": "python",
   "nbconvert_exporter": "python",
   "pygments_lexer": "ipython3",
   "version": "3.11.9"
  }
 },
 "nbformat": 4,
 "nbformat_minor": 4
}
